{
  "nbformat": 4,
  "nbformat_minor": 0,
  "metadata": {
    "colab": {
      "name": "week10.ipynb",
      "provenance": [],
      "collapsed_sections": [],
      "authorship_tag": "ABX9TyPRT+nk6AF3BswqjH4nD9Sa",
      "include_colab_link": true
    },
    "kernelspec": {
      "name": "python3",
      "display_name": "Python 3"
    }
  },
  "cells": [
    {
      "cell_type": "markdown",
      "metadata": {
        "id": "view-in-github",
        "colab_type": "text"
      },
      "source": [
        "<a href=\"https://colab.research.google.com/github/JunYENChiu/Computational-Thinking/blob/master/week10.ipynb\" target=\"_parent\"><img src=\"https://colab.research.google.com/assets/colab-badge.svg\" alt=\"Open In Colab\"/></a>"
      ]
    },
    {
      "cell_type": "code",
      "metadata": {
        "colab": {
          "base_uri": "https://localhost:8080/"
        },
        "id": "Rd5Wd2jgREwU",
        "outputId": "843804bd-9aa3-4a96-be4c-108b19fa7221"
      },
      "source": [
        "time = 129\n",
        "hour =  time//60\n",
        "minute = time % 60\n",
        "print(time,\"是\",hour,\"小時\",minute,\"分鐘\" )\n",
        "hour1 = int(time/60)\n",
        "minute1 = ((time/60)-hour1)*60\n",
        "import math \n",
        "minute1= round(minute1)\n",
        "print(time,\"是\",hour,\"小時\",minute,\"分鐘\")\n"
      ],
      "execution_count": null,
      "outputs": [
        {
          "output_type": "stream",
          "text": [
            "129 是 2 小時 9 分鐘\n",
            "129 是 2 小時 9 分鐘\n"
          ],
          "name": "stdout"
        }
      ]
    }
  ]
}
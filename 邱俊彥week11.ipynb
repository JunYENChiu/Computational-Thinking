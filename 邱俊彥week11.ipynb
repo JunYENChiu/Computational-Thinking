{
  "nbformat": 4,
  "nbformat_minor": 0,
  "metadata": {
    "colab": {
      "name": "邱俊彥week11.ipynb",
      "provenance": [],
      "collapsed_sections": [],
      "authorship_tag": "ABX9TyP8gYKfNFRcykKKwWlk2TLK",
      "include_colab_link": true
    },
    "kernelspec": {
      "name": "python3",
      "display_name": "Python 3"
    }
  },
  "cells": [
    {
      "cell_type": "markdown",
      "metadata": {
        "id": "view-in-github",
        "colab_type": "text"
      },
      "source": [
        "<a href=\"https://colab.research.google.com/github/JunYENChiu/Computational-Thinking/blob/master/%E9%82%B1%E4%BF%8A%E5%BD%A5week11.ipynb\" target=\"_parent\"><img src=\"https://colab.research.google.com/assets/colab-badge.svg\" alt=\"Open In Colab\"/></a>"
      ]
    },
    {
      "cell_type": "code",
      "metadata": {
        "id": "3viPyQgHZfTn"
      },
      "source": [
        ""
      ],
      "execution_count": null,
      "outputs": []
    },
    {
      "cell_type": "markdown",
      "metadata": {
        "id": "DSHkvW-QacF7"
      },
      "source": [
        "分組"
      ]
    },
    {
      "cell_type": "code",
      "metadata": {
        "colab": {
          "base_uri": "https://localhost:8080/"
        },
        "id": "XgK80BtLaelz",
        "outputId": "251fcdef-e964-4253-8268-c9afa2f2f611"
      },
      "source": [
        "# 商數餘數\n",
        "# input\n",
        "seat = input(\"enter a seat number?\")\n",
        "seat = int(seat)\n",
        "## process\n",
        "group = (seat - 1) // 5 + 1\n",
        "## output\n",
        "print(\"group is\", group)"
      ],
      "execution_count": null,
      "outputs": [
        {
          "output_type": "stream",
          "text": [
            "enter a seat number?100\n",
            "group is 20\n"
          ],
          "name": "stdout"
        }
      ]
    },
    {
      "cell_type": "code",
      "metadata": {
        "colab": {
          "base_uri": "https://localhost:8080/"
        },
        "id": "u9DIbWUrcztG",
        "outputId": "f4870dbe-51dc-4195-8d74-518b07d9f7a0"
      },
      "source": [
        "# 四捨五入法 無條件進位\n",
        "## input\n",
        "seat = int(input(\"enter a seat number?\"))\n",
        "\n",
        "\n",
        "## process\n",
        "import math\n",
        "group = math.ceil(seat/5)\n",
        "\n",
        "#output\n",
        "print(\"group is\", group)\n"
      ],
      "execution_count": null,
      "outputs": [
        {
          "output_type": "stream",
          "text": [
            "enter a seat number?100\n",
            "group is 20\n"
          ],
          "name": "stdout"
        }
      ]
    },
    {
      "cell_type": "code",
      "metadata": {
        "colab": {
          "base_uri": "https://localhost:8080/"
        },
        "id": "-VRvDCBnd90i",
        "outputId": "56ed4aef-f1ed-4edc-c86f-156db2cb1ab9"
      },
      "source": [
        "# 方法(三) : 看餘數, 看餘數, 用條件句\n",
        "number = int(input(\"enter a seat\"))\n",
        "if number%5 == 0:\n",
        "  print(\"group is\", number//5)\n",
        "else:\n",
        "  print(\"group is\", number//5 + 1)  "
      ],
      "execution_count": null,
      "outputs": [
        {
          "output_type": "stream",
          "text": [
            "enter a seat100\n",
            "group is 20\n"
          ],
          "name": "stdout"
        }
      ]
    }
  ]
}
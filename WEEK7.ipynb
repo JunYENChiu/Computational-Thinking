{
  "nbformat": 4,
  "nbformat_minor": 0,
  "metadata": {
    "colab": {
      "name": "WEEK7.ipynb",
      "provenance": [],
      "authorship_tag": "ABX9TyPKcgVFkPCwHCPm7za5m5Kq",
      "include_colab_link": true
    },
    "kernelspec": {
      "name": "python3",
      "display_name": "Python 3"
    }
  },
  "cells": [
    {
      "cell_type": "markdown",
      "metadata": {
        "id": "view-in-github",
        "colab_type": "text"
      },
      "source": [
        "<a href=\"https://colab.research.google.com/github/JunYENChiu/Computational-Thinking/blob/master/WEEK7.ipynb\" target=\"_parent\"><img src=\"https://colab.research.google.com/assets/colab-badge.svg\" alt=\"Open In Colab\"/></a>"
      ]
    },
    {
      "cell_type": "code",
      "metadata": {
        "id": "hJamcNzXwEPC",
        "outputId": "bd2e152b-e248-45d5-ce26-445731afa9a7",
        "colab": {
          "base_uri": "https://localhost:8080/"
        }
      },
      "source": [
        "A1=18\n",
        "A2=2\n",
        "MAGIC_NUMBER=(A1**2)%A2+333\n",
        "print(MAGIC_NUMBER)\n"
      ],
      "execution_count": null,
      "outputs": [
        {
          "output_type": "stream",
          "text": [
            "333\n"
          ],
          "name": "stdout"
        }
      ]
    }
  ]
}
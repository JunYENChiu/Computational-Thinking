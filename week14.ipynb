{
  "nbformat": 4,
  "nbformat_minor": 0,
  "metadata": {
    "colab": {
      "name": "week14.ipynb",
      "provenance": [],
      "collapsed_sections": [],
      "authorship_tag": "ABX9TyMqtr/AzIUnr/7GDpMEdF3h",
      "include_colab_link": true
    },
    "kernelspec": {
      "name": "python3",
      "display_name": "Python 3"
    }
  },
  "cells": [
    {
      "cell_type": "markdown",
      "metadata": {
        "id": "view-in-github",
        "colab_type": "text"
      },
      "source": [
        "<a href=\"https://colab.research.google.com/github/JunYENChiu/Computational-Thinking/blob/master/week14.ipynb\" target=\"_parent\"><img src=\"https://colab.research.google.com/assets/colab-badge.svg\" alt=\"Open In Colab\"/></a>"
      ]
    },
    {
      "cell_type": "code",
      "metadata": {
        "colab": {
          "base_uri": "https://localhost:8080/"
        },
        "id": "WQymuCPmcart",
        "outputId": "c7ff3041-e5ca-497c-dabc-77f693f7a1c0"
      },
      "source": [
        "sheet = [\"milk\",\"egg\",\"coffee beans\"]\r\n",
        "for index in [0,1,2]:\r\n",
        "  print (index, sheet[index])"
      ],
      "execution_count": null,
      "outputs": [
        {
          "output_type": "stream",
          "text": [
            "0 milk\n",
            "1 egg\n",
            "2 coffee beans\n"
          ],
          "name": "stdout"
        }
      ]
    },
    {
      "cell_type": "code",
      "metadata": {
        "colab": {
          "base_uri": "https://localhost:8080/"
        },
        "id": "Obwyjz4Mm-So",
        "outputId": "66f94287-f5a0-49b3-bae6-1970af6cadca"
      },
      "source": [
        "people = [\"Eddie\",\"Mario\",\"Luigi\",\"Daisy\",\"Toad\",\"Yoshi\"]\r\n",
        "desserts = [\"french fries\",\"peach pie\",\"popsicles\",\"honey cake\",\"cookies\",\"jelly beans\"]\r\n",
        "for index in range(len(people)):\r\n",
        "  name = people[index]\r\n",
        "  dessert = desserts[index]\r\n",
        "  print(f\"hi! my name is {name}. my favorite dessert is {dessert}.\")\r\n"
      ],
      "execution_count": null,
      "outputs": [
        {
          "output_type": "stream",
          "text": [
            "hi! my name is Eddie. my favorite dessert is french fries.\n",
            "hi! my name is Mario. my favorite dessert is peach pie.\n",
            "hi! my name is Luigi. my favorite dessert is popsicles.\n",
            "hi! my name is Daisy. my favorite dessert is honey cake.\n",
            "hi! my name is Toad. my favorite dessert is cookies.\n",
            "hi! my name is Yoshi. my favorite dessert is jelly beans.\n"
          ],
          "name": "stdout"
        }
      ]
    },
    {
      "cell_type": "code",
      "metadata": {
        "colab": {
          "base_uri": "https://localhost:8080/"
        },
        "id": "b9ZJJUITp48B",
        "outputId": "6a3a6e6a-cad4-44f8-d409-666e6a3cffa6"
      },
      "source": [
        "for i in range(1,10,1):\r\n",
        "  for j in range(1,10,1):\r\n",
        "    print(i,\"*\",j,\"=\",i*j,\"\\t\",sep=\"\",end=\"\")\r\n",
        "    print()"
      ],
      "execution_count": null,
      "outputs": [
        {
          "output_type": "stream",
          "text": [
            "1*1=1\t\n",
            "1*2=2\t\n",
            "1*3=3\t\n",
            "1*4=4\t\n",
            "1*5=5\t\n",
            "1*6=6\t\n",
            "1*7=7\t\n",
            "1*8=8\t\n",
            "1*9=9\t\n",
            "2*1=2\t\n",
            "2*2=4\t\n",
            "2*3=6\t\n",
            "2*4=8\t\n",
            "2*5=10\t\n",
            "2*6=12\t\n",
            "2*7=14\t\n",
            "2*8=16\t\n",
            "2*9=18\t\n",
            "3*1=3\t\n",
            "3*2=6\t\n",
            "3*3=9\t\n",
            "3*4=12\t\n",
            "3*5=15\t\n",
            "3*6=18\t\n",
            "3*7=21\t\n",
            "3*8=24\t\n",
            "3*9=27\t\n",
            "4*1=4\t\n",
            "4*2=8\t\n",
            "4*3=12\t\n",
            "4*4=16\t\n",
            "4*5=20\t\n",
            "4*6=24\t\n",
            "4*7=28\t\n",
            "4*8=32\t\n",
            "4*9=36\t\n",
            "5*1=5\t\n",
            "5*2=10\t\n",
            "5*3=15\t\n",
            "5*4=20\t\n",
            "5*5=25\t\n",
            "5*6=30\t\n",
            "5*7=35\t\n",
            "5*8=40\t\n",
            "5*9=45\t\n",
            "6*1=6\t\n",
            "6*2=12\t\n",
            "6*3=18\t\n",
            "6*4=24\t\n",
            "6*5=30\t\n",
            "6*6=36\t\n",
            "6*7=42\t\n",
            "6*8=48\t\n",
            "6*9=54\t\n",
            "7*1=7\t\n",
            "7*2=14\t\n",
            "7*3=21\t\n",
            "7*4=28\t\n",
            "7*5=35\t\n",
            "7*6=42\t\n",
            "7*7=49\t\n",
            "7*8=56\t\n",
            "7*9=63\t\n",
            "8*1=8\t\n",
            "8*2=16\t\n",
            "8*3=24\t\n",
            "8*4=32\t\n",
            "8*5=40\t\n",
            "8*6=48\t\n",
            "8*7=56\t\n",
            "8*8=64\t\n",
            "8*9=72\t\n",
            "9*1=9\t\n",
            "9*2=18\t\n",
            "9*3=27\t\n",
            "9*4=36\t\n",
            "9*5=45\t\n",
            "9*6=54\t\n",
            "9*7=63\t\n",
            "9*8=72\t\n",
            "9*9=81\t\n"
          ],
          "name": "stdout"
        }
      ]
    }
  ]
}
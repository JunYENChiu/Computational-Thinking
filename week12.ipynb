{
  "nbformat": 4,
  "nbformat_minor": 0,
  "metadata": {
    "colab": {
      "name": "week12.ipynb",
      "provenance": [],
      "collapsed_sections": [],
      "authorship_tag": "ABX9TyMHpBHir7Y9+YHvJkhM7N3q",
      "include_colab_link": true
    },
    "kernelspec": {
      "name": "python3",
      "display_name": "Python 3"
    }
  },
  "cells": [
    {
      "cell_type": "markdown",
      "metadata": {
        "id": "view-in-github",
        "colab_type": "text"
      },
      "source": [
        "<a href=\"https://colab.research.google.com/github/JunYENChiu/Computational-Thinking/blob/master/week12.ipynb\" target=\"_parent\"><img src=\"https://colab.research.google.com/assets/colab-badge.svg\" alt=\"Open In Colab\"/></a>"
      ]
    },
    {
      "cell_type": "code",
      "metadata": {
        "id": "GnEO64D6YGke"
      },
      "source": [
        ""
      ],
      "execution_count": null,
      "outputs": []
    },
    {
      "cell_type": "markdown",
      "metadata": {
        "id": "Ipy_FoG_d_aY"
      },
      "source": [
        "隨堂練習1:購物清單\n",
        "試著用串列出你最喜愛的五樣東西 當成購物清單"
      ]
    },
    {
      "cell_type": "code",
      "metadata": {
        "colab": {
          "base_uri": "https://localhost:8080/"
        },
        "id": "HOz7qOvberU5",
        "outputId": "fc5099bc-73cf-4564-db5c-a1a5797bfb62"
      },
      "source": [
        "shopping_list = [\"蘋果\",\"牛奶\",\"豆漿\",\"臭豆腐\",\"肉\"]\n",
        "print (shopping_list)\n",
        "list5 = [\"蘋果\",\"牛奶\",\"豆漿\",\"臭豆腐\",\"肉\"]\n",
        "print(list5[0])\n",
        "list5[1] = \"紅茶\"\n",
        "print(list5)\n"
      ],
      "execution_count": null,
      "outputs": [
        {
          "output_type": "stream",
          "text": [
            "['蘋果', '牛奶', '豆漿', '臭豆腐', '肉']\n",
            "蘋果\n",
            "['蘋果', '紅茶', '豆漿', '臭豆腐', '肉']\n"
          ],
          "name": "stdout"
        }
      ]
    },
    {
      "cell_type": "markdown",
      "metadata": {
        "id": "d8CBtyqwhWC5"
      },
      "source": [
        "隨堂練習二\n"
      ]
    },
    {
      "cell_type": "code",
      "metadata": {
        "colab": {
          "base_uri": "https://localhost:8080/"
        },
        "id": "vxYB2amThZTT",
        "outputId": "3a8c2fce-5bff-4a51-f7c5-950638acb575"
      },
      "source": [
        "season = \"1995-1996\"\n",
        "team = \"Chicago Bulls\"\n",
        "coach = \"Phil Jackson\"\n",
        "records = [72, 10]\n",
        "starting = [\"Ron Harper\", \"Michael Jordan\", \"Scottie Pippen\",\"Dennis Rodman\", \"Luc Longley\"]\n",
        "champion = True\n",
        "\n",
        "best_NBA = list((season, team, coach, records, starting, champion))\n",
        "print (best_NBA)\n",
        "\n",
        "print(type(best_NBA))\n",
        "print(best_NBA[-2])  \n",
        "print(best_NBA[0:-2]) \n",
        "    \n"
      ],
      "execution_count": null,
      "outputs": [
        {
          "output_type": "stream",
          "text": [
            "['1995-1996', 'Chicago Bulls', 'Phil Jackson', [72, 10], ['Ron Harper', 'Michael Jordan', 'Scottie Pippen', 'Dennis Rodman', 'Luc Longley'], True]\n",
            "<class 'list'>\n",
            "['Ron Harper', 'Michael Jordan', 'Scottie Pippen', 'Dennis Rodman', 'Luc Longley']\n",
            "['1995-1996', 'Chicago Bulls', 'Phil Jackson', [72, 10]]\n"
          ],
          "name": "stdout"
        }
      ]
    },
    {
      "cell_type": "markdown",
      "metadata": {
        "id": "G2jpTIP2qTgr"
      },
      "source": [
        "練習3"
      ]
    },
    {
      "cell_type": "code",
      "metadata": {
        "colab": {
          "base_uri": "https://localhost:8080/"
        },
        "id": "jAMKTs3oqaOR",
        "outputId": "be01e9f9-223b-49c3-8fb8-f43b1bf6d267"
      },
      "source": [
        "a = range(4)\n",
        "print(a)\n",
        "range(0, 4)\n",
        "print(a[0], a[1], a[2], a[3], )\n",
        "b = range(2, 6)\n",
        "print(b[0], b[1], b[2], b[3])\n",
        "c = range(4, 11, 3)\n",
        "print(c[0], c[1], c[2])\n",
        "d = range(10, 3, -1)\n",
        "print(d[0], d[1], d[2], d[3])"
      ],
      "execution_count": null,
      "outputs": [
        {
          "output_type": "stream",
          "text": [
            "range(0, 4)\n",
            "0 1 2 3\n",
            "2 3 4 5\n",
            "4 7 10\n",
            "10 9 8 7\n"
          ],
          "name": "stdout"
        }
      ]
    },
    {
      "cell_type": "markdown",
      "metadata": {
        "id": "-SYH4fC3uzqX"
      },
      "source": [
        "作業\n"
      ]
    },
    {
      "cell_type": "code",
      "metadata": {
        "colab": {
          "base_uri": "https://localhost:8080/"
        },
        "id": "oPQVkUVWu4g5",
        "outputId": "419952d0-5b7d-4a3e-f60e-06e26a06e798"
      },
      "source": [
        "\n",
        "name_list = [\"吳家俊\", \"邱俊彥\", \"王耀霆\"]\n",
        "number_list = [\"109260085\", \"109260083\", \"109260059\"]\n",
        "print(name_list)\n",
        "print(number_list)\n",
        "name_list3= [\"吳家俊\", \"邱俊彥\", \"王耀霆\"]\n",
        "print(name_list3[0])\n",
        "number_list4 = [\"109260085\", \"109260083\", \"109260059\"]\n",
        "print(number_list4[0])\n",
        "\n"
      ],
      "execution_count": null,
      "outputs": [
        {
          "output_type": "stream",
          "text": [
            "['吳家俊', '邱俊彥', '王耀霆']\n",
            "['109260085', '109260083', '109260059']\n",
            "吳家俊\n",
            "109260085\n"
          ],
          "name": "stdout"
        }
      ]
    }
  ]
}
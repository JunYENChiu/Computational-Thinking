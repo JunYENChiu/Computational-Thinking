{
  "nbformat": 4,
  "nbformat_minor": 0,
  "metadata": {
    "colab": {
      "name": "week8.ipynb",
      "provenance": [],
      "collapsed_sections": [],
      "authorship_tag": "ABX9TyMk4F2Paz/KiVF3Riu8iqdJ",
      "include_colab_link": true
    },
    "kernelspec": {
      "name": "python3",
      "display_name": "Python 3"
    }
  },
  "cells": [
    {
      "cell_type": "markdown",
      "metadata": {
        "id": "view-in-github",
        "colab_type": "text"
      },
      "source": [
        "<a href=\"https://colab.research.google.com/github/JunYENChiu/Computational-Thinking/blob/master/week8.ipynb\" target=\"_parent\"><img src=\"https://colab.research.google.com/assets/colab-badge.svg\" alt=\"Open In Colab\"/></a>"
      ]
    },
    {
      "cell_type": "code",
      "metadata": {
        "id": "uTbHGaCfw-IF",
        "outputId": "4462e6b6-ed1f-4f83-ce8a-f39fa6773a60",
        "colab": {
          "base_uri": "https://localhost:8080/"
        }
      },
      "source": [
        "cloth = int(input(\"衣服數量?\"))\n",
        "trousers = int(input(\"褲子數量?\"))\n",
        "vest = int(input(\"背心數量?\"))\n",
        "\n",
        "total = cloth*300+trousers*500+vest*400\n",
        "\n",
        "print(\"訂購服裝總金額\",total)\n",
        "\n"
      ],
      "execution_count": 12,
      "outputs": [
        {
          "output_type": "stream",
          "text": [
            "衣服數量?50\n",
            "褲子數量?100\n",
            "背心數量?99999\n",
            "訂購服裝總金額 40064600\n"
          ],
          "name": "stdout"
        }
      ]
    },
    {
      "cell_type": "code",
      "metadata": {
        "id": "ZRH_zZihzHJ7",
        "outputId": "c1ed34de-2f40-4c7b-b1e5-93eecd71cfac",
        "colab": {
          "base_uri": "https://localhost:8080/"
        }
      },
      "source": [
        "cans = int(input(\"購買飲料罐數\"))\n",
        "total = (cans//12)*200 + (cans%12)*20\n",
        "print(\"需花費\" ,total)\n",
        "\n",
        " "
      ],
      "execution_count": 11,
      "outputs": [
        {
          "output_type": "stream",
          "text": [
            "購買飲料罐數66\n",
            "需花費 1120\n"
          ],
          "name": "stdout"
        }
      ]
    },
    {
      "cell_type": "code",
      "metadata": {
        "id": "EOihn8ZQJJdF",
        "outputId": "6339e9ad-3e11-4124-a1d2-2362d954f8b2",
        "colab": {
          "base_uri": "https://localhost:8080/"
        }
      },
      "source": [
        "first = int(input(\"第一次期中考成績\"))\n",
        "second = int(input(\"第二次期中考成績\"))\n",
        "final = int(input(\"期末考成績\"))\n",
        "\n",
        "total = first+second+final\n",
        "print(\"總成績\" , total)\n",
        "print(\"平均\",total*1/3)\n"
      ],
      "execution_count": 16,
      "outputs": [
        {
          "output_type": "stream",
          "text": [
            "第一次期中考成績44\n",
            "第二次期中考成績53\n",
            "期末考成績55\n",
            "總成績 152\n",
            "平均 50.666666666666664\n"
          ],
          "name": "stdout"
        }
      ]
    }
  ]
}
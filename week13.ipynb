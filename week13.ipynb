{
  "nbformat": 4,
  "nbformat_minor": 0,
  "metadata": {
    "colab": {
      "name": "week13.ipynb",
      "provenance": [],
      "collapsed_sections": [],
      "authorship_tag": "ABX9TyN2rWNbdDgSPv9Dwm7xmfwD",
      "include_colab_link": true
    },
    "kernelspec": {
      "name": "python3",
      "display_name": "Python 3"
    }
  },
  "cells": [
    {
      "cell_type": "markdown",
      "metadata": {
        "id": "view-in-github",
        "colab_type": "text"
      },
      "source": [
        "<a href=\"https://colab.research.google.com/github/JunYENChiu/Computational-Thinking/blob/master/week13.ipynb\" target=\"_parent\"><img src=\"https://colab.research.google.com/assets/colab-badge.svg\" alt=\"Open In Colab\"/></a>"
      ]
    },
    {
      "cell_type": "code",
      "metadata": {
        "colab": {
          "base_uri": "https://localhost:8080/"
        },
        "id": "GWwliHcjeLlp",
        "outputId": "f161f19f-8b50-4cae-b289-d7c8d065e5c9"
      },
      "source": [
        "for i in range(0,5,1):\r\n",
        "  print(\"hello\")\r\n"
      ],
      "execution_count": null,
      "outputs": [
        {
          "output_type": "stream",
          "text": [
            "hello\n",
            "hello\n",
            "hello\n",
            "hello\n",
            "hello\n"
          ],
          "name": "stdout"
        }
      ]
    },
    {
      "cell_type": "code",
      "metadata": {
        "colab": {
          "base_uri": "https://localhost:8080/"
        },
        "id": "A8fo1rqoj-lQ",
        "outputId": "4351e3ad-284c-4a15-a60c-cceed5f44be3"
      },
      "source": [
        "[100,97,94,91]\r\n",
        "for i in range(100,90,-3):\r\n",
        "  print(i)"
      ],
      "execution_count": null,
      "outputs": [
        {
          "output_type": "stream",
          "text": [
            "100\n",
            "97\n",
            "94\n",
            "91\n"
          ],
          "name": "stdout"
        }
      ]
    },
    {
      "cell_type": "code",
      "metadata": {
        "colab": {
          "base_uri": "https://localhost:8080/"
        },
        "id": "9lVRHcjMmuzO",
        "outputId": "f8c844e5-b073-4f41-a19c-d15382cb55ae"
      },
      "source": [
        "sum = 0\r\n",
        "for i in range(1, 11, 1):\r\n",
        "  sum = sum + i\r\n",
        "print(\"total is\", sum)  "
      ],
      "execution_count": null,
      "outputs": [
        {
          "output_type": "stream",
          "text": [
            "total is 55\n"
          ],
          "name": "stdout"
        }
      ]
    },
    {
      "cell_type": "code",
      "metadata": {
        "colab": {
          "base_uri": "https://localhost:8080/"
        },
        "id": "PWIM9s5sqy3g",
        "outputId": "53c38d9a-2c02-4638-f1bf-28e09e7eb9bf"
      },
      "source": [
        "sum = 0\r\n",
        "for i in range(1, 11, 2):\r\n",
        "  sum = sum + i\r\n",
        "print(\"total is\", sum)  "
      ],
      "execution_count": null,
      "outputs": [
        {
          "output_type": "stream",
          "text": [
            "total is 25\n"
          ],
          "name": "stdout"
        }
      ]
    },
    {
      "cell_type": "code",
      "metadata": {
        "colab": {
          "base_uri": "https://localhost:8080/"
        },
        "id": "bceiMaBUrZVc",
        "outputId": "47772a4e-e35e-4e9f-bb8f-1564dde6ef8c"
      },
      "source": [
        "sum = 0\r\n",
        "for i in range(3, 13, 4):\r\n",
        "  sum = sum + i\r\n",
        "print(\"total is\", sum)  "
      ],
      "execution_count": null,
      "outputs": [
        {
          "output_type": "stream",
          "text": [
            "total is 21\n"
          ],
          "name": "stdout"
        }
      ]
    },
    {
      "cell_type": "code",
      "metadata": {
        "colab": {
          "base_uri": "https://localhost:8080/"
        },
        "id": "aPbwy4insSMx",
        "outputId": "7d892209-8b66-46bd-9488-1dc45e089dd0"
      },
      "source": [
        "start = int(input(\"輸入加總開始值\"))\r\n",
        "stop = int(input(\"輸入加總終止值\"))\r\n",
        "step = int(input(\"輸入遞增減值\"))\r\n",
        "sum = 0\r\n",
        "for i in range(start, stop, step):\r\n",
        "  sum = sum + i\r\n",
        "  print(\"i為\",i,\"累加成果\")  \r\n"
      ],
      "execution_count": null,
      "outputs": [
        {
          "output_type": "stream",
          "text": [
            "輸入加總開始值2\n",
            "輸入加總終止值10\n",
            "輸入遞增減值2\n",
            "i為 2 累加成果\n",
            "i為 4 累加成果\n",
            "i為 6 累加成果\n",
            "i為 8 累加成果\n"
          ],
          "name": "stdout"
        }
      ]
    },
    {
      "cell_type": "code",
      "metadata": {
        "colab": {
          "base_uri": "https://localhost:8080/"
        },
        "id": "letiQm_3wz1x",
        "outputId": "1159f1eb-33de-4cd1-c822-6b0828dcfe6f"
      },
      "source": [
        "n = int(input(\"輸入n值\"))\r\n",
        "sum = 0\r\n",
        "for i in range(1,n+1):\r\n",
        "  sum = sum+ i*i\r\n",
        "print(\"數字平方和\", sum)"
      ],
      "execution_count": null,
      "outputs": [
        {
          "output_type": "stream",
          "text": [
            "輸入n值5\n",
            "數字平方和 55\n"
          ],
          "name": "stdout"
        }
      ]
    }
  ]
}